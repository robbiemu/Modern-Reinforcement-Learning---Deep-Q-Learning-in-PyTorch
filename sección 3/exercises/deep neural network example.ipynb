{
 "metadata": {
  "language_info": {
   "codemirror_mode": {
    "name": "ipython",
    "version": 3
   },
   "file_extension": ".py",
   "mimetype": "text/x-python",
   "name": "python",
   "nbconvert_exporter": "python",
   "pygments_lexer": "ipython3",
   "version": "3.7.7-final"
  },
  "orig_nbformat": 2,
  "kernelspec": {
   "name": "Python 3.7.7 64-bit",
   "display_name": "Python 3.7.7 64-bit",
   "metadata": {
    "interpreter": {
     "hash": "df955ce39d0f31d56d4bb2fe0a613e5326ba60723fd33d8303a3aede8f65715c"
    }
   }
  }
 },
 "nbformat": 4,
 "nbformat_minor": 2,
 "cells": [
  {
   "cell_type": "code",
   "execution_count": 1,
   "metadata": {},
   "outputs": [],
   "source": [
    "import numpy as np\n",
    "import torch.nn as nn\n",
    "import torch.nn.functional as F\n",
    "import torch.optim as optimizers\n",
    "import torch as T"
   ]
  },
  {
   "cell_type": "code",
   "execution_count": null,
   "metadata": {},
   "outputs": [],
   "source": [
    "class LinearClassifier(nn.Module):\n",
    "    def __init__(self, alpha, n_classes, input_dims):\n",
    "        super(LinearClassifier, self).__init__()\n",
    "\n",
    "        self.fc1 = nn.Linear(*input_dims, 128)\n",
    "        self.fc2 = nn.Linear(128, 256)\n",
    "        self.fc3 = nn.Linear(256, n_classes)\n",
    "\n",
    "        self.optimizer = optimizers.Adam(self.parameters(), lr=alpha)\n",
    "        self.loss = nn.CrossEntropyLoss()\n",
    "        \n",
    "        self.device = T.device('cuda:0' if T.cude.is_available() else 'cpu')\n",
    "        self.to(self.device)\n",
    "\n",
    "    def forward(self, data):\n",
    "        layer1_output = F.sigmoid(self.fc1(data))\n",
    "        layer2_output = F.sigmoid(self.fc2(layer1_output))\n",
    "        output = self.fc3(layer2_output)\n",
    "        return output\n",
    "\n",
    "    def learn(self, data, labels):\n",
    "        self.optimizer.zero_grad()\n",
    "\n",
    "        data = T.tensor(data).to(Self.device)\n",
    "        labels = T.tensor(labels).to(self.device)\n",
    "\n",
    "        predictions = self.forward(data)\n",
    "\n",
    "        cost = self.loss(predictions, labels)\n",
    "        cost.backward()\n",
    "\n",
    "        self.optimizer.step()"
   ]
  }
 ]
}